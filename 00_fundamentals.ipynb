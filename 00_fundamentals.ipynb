{
 "cells": [
  {
   "cell_type": "code",
   "execution_count": 1,
   "id": "5bf775f9",
   "metadata": {},
   "outputs": [
    {
     "name": "stdout",
     "output_type": "stream",
     "text": [
      "Thu May 22 17:00:12 2025       \n",
      "+-----------------------------------------------------------------------------------------+\n",
      "| NVIDIA-SMI 566.07                 Driver Version: 566.07         CUDA Version: 12.7     |\n",
      "|-----------------------------------------+------------------------+----------------------+\n",
      "| GPU  Name                  Driver-Model | Bus-Id          Disp.A | Volatile Uncorr. ECC |\n",
      "| Fan  Temp   Perf          Pwr:Usage/Cap |           Memory-Usage | GPU-Util  Compute M. |\n",
      "|                                         |                        |               MIG M. |\n",
      "|=========================================+========================+======================|\n",
      "|   0  NVIDIA GeForce RTX 3050 ...  WDDM  |   00000000:01:00.0  On |                  N/A |\n",
      "| N/A   51C    P8              5W /   35W |     980MiB /   4096MiB |      7%      Default |\n",
      "|                                         |                        |                  N/A |\n",
      "+-----------------------------------------+------------------------+----------------------+\n",
      "                                                                                         \n",
      "+-----------------------------------------------------------------------------------------+\n",
      "| Processes:                                                                              |\n",
      "|  GPU   GI   CI        PID   Type   Process name                              GPU Memory |\n",
      "|        ID   ID                                                               Usage      |\n",
      "|=========================================================================================|\n",
      "|    0   N/A  N/A      3432    C+G   ...US\\ArmouryDevice\\asus_framework.exe      N/A      |\n",
      "|    0   N/A  N/A      3712    C+G   ...2txyewy\\StartMenuExperienceHost.exe      N/A      |\n",
      "|    0   N/A  N/A      3908    C+G   ...64__v826wp6bftszj\\TranslucentTB.exe      N/A      |\n",
      "|    0   N/A  N/A      7272    C+G   ...GeForce Experience\\NVIDIA Share.exe      N/A      |\n",
      "|    0   N/A  N/A      7560    C+G   C:\\Windows\\System32\\ShellHost.exe           N/A      |\n",
      "|    0   N/A  N/A     10400    C+G   ...3.0_x64__cv1g1gvanyjgm\\WhatsApp.exe      N/A      |\n",
      "|    0   N/A  N/A     14588    C+G   ...m Files\\Mozilla Firefox\\firefox.exe      N/A      |\n",
      "|    0   N/A  N/A     16356    C+G   ...t.LockApp_cw5n1h2txyewy\\LockApp.exe      N/A      |\n",
      "|    0   N/A  N/A     16776    C+G   ...s\\System32\\ApplicationFrameHost.exe      N/A      |\n",
      "|    0   N/A  N/A     18168    C+G   C:\\Windows\\explorer.exe                     N/A      |\n",
      "|    0   N/A  N/A     18408    C+G   ...on\\136.0.3240.76\\msedgewebview2.exe      N/A      |\n",
      "|    0   N/A  N/A     18760    C+G   ...m Files\\Mozilla Firefox\\firefox.exe      N/A      |\n",
      "|    0   N/A  N/A     19864    C+G   ...ekyb3d8bbwe\\PhoneExperienceHost.exe      N/A      |\n",
      "|    0   N/A  N/A     19928    C+G   ...CBS_cw5n1h2txyewy\\TextInputHost.exe      N/A      |\n",
      "|    0   N/A  N/A     21092    C+G   ...Programs\\Microsoft VS Code\\Code.exe      N/A      |\n",
      "|    0   N/A  N/A     21276    C+G   ...siveControlPanel\\SystemSettings.exe      N/A      |\n",
      "|    0   N/A  N/A     22552    C+G   ...nt.CBS_cw5n1h2txyewy\\SearchHost.exe      N/A      |\n",
      "+-----------------------------------------------------------------------------------------+\n"
     ]
    }
   ],
   "source": [
    "!nvidia-smi"
   ]
  },
  {
   "cell_type": "code",
   "execution_count": 1,
   "id": "937fd015",
   "metadata": {},
   "outputs": [
    {
     "data": {
      "text/plain": [
       "'2.6.0+cu126'"
      ]
     },
     "execution_count": 1,
     "metadata": {},
     "output_type": "execute_result"
    }
   ],
   "source": [
    "import torch\n",
    "torch.__version__"
   ]
  },
  {
   "cell_type": "code",
   "execution_count": 45,
   "id": "33f9a574",
   "metadata": {},
   "outputs": [],
   "source": [
    "import pandas as pd\n",
    "import numpy as np\n",
    "import matplotlib.pyplot as plt"
   ]
  },
  {
   "cell_type": "code",
   "execution_count": 4,
   "id": "6c1818c7",
   "metadata": {},
   "outputs": [
    {
     "data": {
      "text/plain": [
       "tensor(7)"
      ]
     },
     "execution_count": 4,
     "metadata": {},
     "output_type": "execute_result"
    }
   ],
   "source": [
    "scalar=torch.tensor(7)  #a scalar tensor with one component and no basis vectors\n",
    "scalar"
   ]
  },
  {
   "cell_type": "code",
   "execution_count": 7,
   "id": "6af99d46",
   "metadata": {},
   "outputs": [
    {
     "name": "stdout",
     "output_type": "stream",
     "text": [
      "0\n"
     ]
    },
    {
     "data": {
      "text/plain": [
       "7"
      ]
     },
     "execution_count": 7,
     "metadata": {},
     "output_type": "execute_result"
    }
   ],
   "source": [
    "print(scalar.ndim)\n",
    "scalar.item()"
   ]
  },
  {
   "cell_type": "code",
   "execution_count": 12,
   "id": "25fab9d8",
   "metadata": {},
   "outputs": [
    {
     "name": "stdout",
     "output_type": "stream",
     "text": [
      "tensor([7, 3]) 1 torch.Size([2])\n"
     ]
    }
   ],
   "source": [
    "vector=torch.tensor([7,3])\n",
    "print(vector , vector.ndim , vector.shape)"
   ]
  },
  {
   "cell_type": "code",
   "execution_count": 13,
   "id": "012bc17f",
   "metadata": {},
   "outputs": [
    {
     "name": "stdout",
     "output_type": "stream",
     "text": [
      "tensor([[7, 3],\n",
      "        [4, 5]]) 2 torch.Size([2, 2])\n"
     ]
    }
   ],
   "source": [
    "matrix=torch.tensor([[7,3],[4,5]])\n",
    "print(matrix , matrix.ndim , matrix.shape)"
   ]
  },
  {
   "cell_type": "code",
   "execution_count": 15,
   "id": "37e4a63f",
   "metadata": {},
   "outputs": [
    {
     "data": {
      "text/plain": [
       "(tensor([4, 5]), tensor([7, 3]), tensor(5))"
      ]
     },
     "execution_count": 15,
     "metadata": {},
     "output_type": "execute_result"
    }
   ],
   "source": [
    "matrix[1] , matrix[0] , matrix[1][1]"
   ]
  },
  {
   "cell_type": "code",
   "execution_count": null,
   "id": "05838f2c",
   "metadata": {},
   "outputs": [
    {
     "data": {
      "text/plain": [
       "(tensor([[[1, 2, 3],\n",
       "          [4, 5, 6],\n",
       "          [7, 8, 9]]]),\n",
       " 3,\n",
       " torch.Size([1, 3, 3]))"
      ]
     },
     "execution_count": 17,
     "metadata": {},
     "output_type": "execute_result"
    }
   ],
   "source": [
    "TENSOR=torch.tensor([[[1,2,3],[4,5,6],[7,8,9]]])\n",
    "TENSOR,  TENSOR.ndim,  TENSOR.shape            #basically this tensor is only one frame of the 3d tensor - 1D 3x3 face"
   ]
  },
  {
   "cell_type": "code",
   "execution_count": null,
   "id": "752409ed",
   "metadata": {},
   "outputs": [
    {
     "data": {
      "text/plain": [
       "(tensor([[[0.0441, 0.4812],\n",
       "          [0.7921, 0.7487],\n",
       "          [0.8678, 0.7611],\n",
       "          [0.7052, 0.9695]],\n",
       " \n",
       "         [[0.3855, 0.1978],\n",
       "          [0.3241, 0.7754],\n",
       "          [0.8880, 0.7347],\n",
       "          [0.3450, 0.3249]],\n",
       " \n",
       "         [[0.2202, 0.9417],\n",
       "          [0.0558, 0.6707],\n",
       "          [0.3088, 0.4064],\n",
       "          [0.4950, 0.9105]]]),\n",
       " 3)"
      ]
     },
     "execution_count": 18,
     "metadata": {},
     "output_type": "execute_result"
    }
   ],
   "source": [
    "random_tensor=torch.rand(3,4,2)    #3,4,2 is the shape or size of the tensor\n",
    "random_tensor,  random_tensor.ndim                #3 faces of 4x2 shape - 3 faces like a 3x3 rubics cube"
   ]
  },
  {
   "cell_type": "code",
   "execution_count": null,
   "id": "27f10160",
   "metadata": {},
   "outputs": [
    {
     "data": {
      "text/plain": [
       "3"
      ]
     },
     "execution_count": 19,
     "metadata": {},
     "output_type": "execute_result"
    }
   ],
   "source": [
    "random_img_size_tensor=torch.rand(224,224,3) #3 color channels  - 224 faces of 224x3 matrices\n",
    "random_img_size_tensor.ndim"
   ]
  },
  {
   "cell_type": "code",
   "execution_count": 4,
   "id": "0c07e634",
   "metadata": {},
   "outputs": [
    {
     "data": {
      "text/plain": [
       "(tensor([[0., 0., 0.],\n",
       "         [0., 0., 0.]]),\n",
       " tensor([[1., 1., 1.],\n",
       "         [1., 1., 1.]]),\n",
       " torch.float32)"
      ]
     },
     "execution_count": 4,
     "metadata": {},
     "output_type": "execute_result"
    }
   ],
   "source": [
    "zero_tensor=torch.zeros(size=(2,3))\n",
    "one_tensor=torch.ones(2,3)\n",
    "zero_tensor , one_tensor , one_tensor.dtype"
   ]
  },
  {
   "cell_type": "code",
   "execution_count": 9,
   "id": "756f3f02",
   "metadata": {},
   "outputs": [
    {
     "data": {
      "text/plain": [
       "(tensor([ 1, 18, 35, 52, 69, 86]), tensor([0, 1, 2, 3, 4]))"
      ]
     },
     "execution_count": 9,
     "metadata": {},
     "output_type": "execute_result"
    }
   ],
   "source": [
    "x=torch.arange(0,5)\n",
    "torch.arange(start=1, end=100, step=17) , x"
   ]
  },
  {
   "cell_type": "code",
   "execution_count": null,
   "id": "02b90c1f",
   "metadata": {},
   "outputs": [
    {
     "data": {
      "text/plain": [
       "tensor([0, 0, 0, 0, 0])"
      ]
     },
     "execution_count": 11,
     "metadata": {},
     "output_type": "execute_result"
    }
   ],
   "source": [
    "tensor_like=torch.zeros_like(input=x)  #inherits the shape of the input tensor\n",
    "tensor_like"
   ]
  },
  {
   "cell_type": "code",
   "execution_count": 14,
   "id": "5c08da79",
   "metadata": {},
   "outputs": [
    {
     "data": {
      "text/plain": [
       "tensor([[0.9614, 0.8760, 0.5283],\n",
       "        [0.7026, 0.0020, 0.9995],\n",
       "        [0.7842, 0.6040, 0.6948]], dtype=torch.float16)"
      ]
     },
     "execution_count": 14,
     "metadata": {},
     "output_type": "execute_result"
    }
   ],
   "source": [
    "torch.rand(size=(3,3), dtype=torch.float16, requires_grad=None)"
   ]
  },
  {
   "cell_type": "code",
   "execution_count": 19,
   "id": "ddff7440",
   "metadata": {},
   "outputs": [
    {
     "name": "stdout",
     "output_type": "stream",
     "text": [
      "tensor([[0.1402, 0.6433, 0.8564, 0.9427],\n",
      "        [0.1691, 0.0544, 0.3831, 0.8644],\n",
      "        [0.9916, 0.3382, 0.0357, 0.1307]])\n"
     ]
    },
    {
     "data": {
      "text/plain": [
       "(tensor(0.0357), tensor(0.9916), tensor(0.4625), tensor(5.5499))"
      ]
     },
     "execution_count": 19,
     "metadata": {},
     "output_type": "execute_result"
    }
   ],
   "source": [
    "t=torch.rand(3,4)\n",
    "print(t)\n",
    "torch.min(t), torch.max(t), torch.mean(t), torch.sum(t)"
   ]
  },
  {
   "cell_type": "code",
   "execution_count": 25,
   "id": "5890de30",
   "metadata": {},
   "outputs": [
    {
     "data": {
      "text/plain": [
       "(tensor(10), tensor(8))"
      ]
     },
     "execution_count": 25,
     "metadata": {},
     "output_type": "execute_result"
    }
   ],
   "source": [
    "t.argmin(), t.argmax()  #find the index value or position within the tensor with min or max value"
   ]
  },
  {
   "cell_type": "code",
   "execution_count": 6,
   "id": "d8a378c0",
   "metadata": {},
   "outputs": [
    {
     "name": "stdout",
     "output_type": "stream",
     "text": [
      "\n",
      "tensor([1, 2, 3, 4, 5, 6, 7, 8, 9])\n",
      "\n",
      "torch.Size([9])\n",
      "\n",
      "(tensor([[1, 2, 3],\n",
      "        [4, 5, 6],\n",
      "        [7, 8, 9]]), tensor([1, 2, 3, 4, 5, 6, 7, 8, 9]))\n",
      "\n",
      "(tensor([[1, 2, 3],\n",
      "        [4, 5, 6],\n",
      "        [7, 8, 9]]), tensor([1, 2, 3, 4, 5, 6, 7, 8, 9]))\n"
     ]
    }
   ],
   "source": [
    "x=torch.arange(1,10)\n",
    "print(f\"\\n{x}\")\n",
    "print(f\"\\n{x.shape}\")\n",
    "z=x.reshape(3,3)\n",
    "print(f\"\\n{z, x}\")\n",
    "y=x.view(3,3)\n",
    "print(f\"\\n{y, x}\")\n"
   ]
  },
  {
   "cell_type": "code",
   "execution_count": 15,
   "id": "b679cb27",
   "metadata": {},
   "outputs": [
    {
     "data": {
      "text/plain": [
       "(tensor([[1, 2, 3, 4, 5, 6, 7, 8, 9],\n",
       "         [1, 2, 3, 4, 5, 6, 7, 8, 9]]),\n",
       " tensor([[1, 2, 3, 4, 5, 6, 7, 8, 9],\n",
       "         [1, 2, 3, 4, 5, 6, 7, 8, 9]]),\n",
       " tensor([1, 2, 3, 4, 5, 6, 7, 8, 9, 1, 2, 3, 4, 5, 6, 7, 8, 9]))"
      ]
     },
     "execution_count": 15,
     "metadata": {},
     "output_type": "execute_result"
    }
   ],
   "source": [
    "x_stacked=torch.stack([x, x], dim=0)\n",
    "x_stacked , torch.vstack([x,x]) , torch.hstack([x,x])"
   ]
  },
  {
   "cell_type": "code",
   "execution_count": 31,
   "id": "d0812577",
   "metadata": {},
   "outputs": [
    {
     "name": "stdout",
     "output_type": "stream",
     "text": [
      "\n",
      "(tensor([[[0.8190, 0.2742, 0.5222],\n",
      "         [0.0154, 0.2854, 0.2613]]]), torch.Size([1, 2, 3]))\n",
      "\n",
      "(torch.Size([2, 3]), tensor([[0.8190, 0.2742, 0.5222],\n",
      "        [0.0154, 0.2854, 0.2613]]))\n",
      "\n",
      "(torch.Size([1, 1, 2, 3]), tensor([[[[0.8190, 0.2742, 0.5222],\n",
      "          [0.0154, 0.2854, 0.2613]]]]))\n"
     ]
    }
   ],
   "source": [
    "x=torch.rand(size=(1,2,3))\n",
    "print(f\"\\n{x, x.shape}\")\n",
    "print(f\"\\n{x.squeeze().shape , x.squeeze()}\")\n",
    "print(f\"\\n{x.unsqueeze(dim=0).shape , x.unsqueeze(dim=0)}\")"
   ]
  },
  {
   "cell_type": "code",
   "execution_count": 33,
   "id": "6ae1fbc6",
   "metadata": {},
   "outputs": [
    {
     "name": "stdout",
     "output_type": "stream",
     "text": [
      "torch.Size([3, 224, 224])\n"
     ]
    }
   ],
   "source": [
    "m=torch.rand(size=(224,224,3))\n",
    "m_permuted=m.permute(2, 0, 1)\n",
    "print(f\"{m_permuted.shape}\")"
   ]
  },
  {
   "cell_type": "code",
   "execution_count": 44,
   "id": "edf16f01",
   "metadata": {},
   "outputs": [
    {
     "data": {
      "text/plain": [
       "(tensor(0.8513), tensor([0.1614, 0.2716, 0.7782]))"
      ]
     },
     "execution_count": 44,
     "metadata": {},
     "output_type": "execute_result"
    }
   ],
   "source": [
    "m[221,223,1] , m[0,1,:]"
   ]
  },
  {
   "cell_type": "code",
   "execution_count": 50,
   "id": "977fd9f0",
   "metadata": {},
   "outputs": [
    {
     "data": {
      "text/plain": [
       "(array([1., 3., 7.]), tensor([1., 3., 7.], dtype=torch.float64))"
      ]
     },
     "execution_count": 50,
     "metadata": {},
     "output_type": "execute_result"
    }
   ],
   "source": [
    "array=np.array([1.0,3.0,7.0])\n",
    "tensor=torch.from_numpy(array)\n",
    "array , tensor"
   ]
  },
  {
   "cell_type": "code",
   "execution_count": 51,
   "id": "fa633078",
   "metadata": {},
   "outputs": [
    {
     "data": {
      "text/plain": [
       "(tensor([4, 6, 8]), array([4, 6, 8]))"
      ]
     },
     "execution_count": 51,
     "metadata": {},
     "output_type": "execute_result"
    }
   ],
   "source": [
    "t=torch.tensor([4,6,8])\n",
    "n_array=t.numpy()\n",
    "t , n_array"
   ]
  },
  {
   "cell_type": "code",
   "execution_count": 53,
   "id": "65f0106a",
   "metadata": {},
   "outputs": [
    {
     "data": {
      "text/plain": [
       "tensor([[True, True, True],\n",
       "        [True, True, True],\n",
       "        [True, True, True]])"
      ]
     },
     "execution_count": 53,
     "metadata": {},
     "output_type": "execute_result"
    }
   ],
   "source": [
    "RANDOM_SEED=77\n",
    "torch.manual_seed(RANDOM_SEED)\n",
    "t1=torch.rand(3,3)\n",
    "torch.manual_seed(RANDOM_SEED)\n",
    "t2=torch.rand(3,3)\n",
    "t1==t2"
   ]
  },
  {
   "cell_type": "code",
   "execution_count": 54,
   "id": "160ff781",
   "metadata": {},
   "outputs": [
    {
     "data": {
      "text/plain": [
       "1"
      ]
     },
     "execution_count": 54,
     "metadata": {},
     "output_type": "execute_result"
    }
   ],
   "source": [
    "torch.cuda.device_count()"
   ]
  },
  {
   "cell_type": "code",
   "execution_count": 55,
   "id": "8c45a0ff",
   "metadata": {},
   "outputs": [
    {
     "data": {
      "text/plain": [
       "'cuda'"
      ]
     },
     "execution_count": 55,
     "metadata": {},
     "output_type": "execute_result"
    }
   ],
   "source": [
    "device=\"cuda\" if torch.cuda.is_available() else \"cpu\"\n",
    "device"
   ]
  },
  {
   "cell_type": "code",
   "execution_count": 57,
   "id": "a731da9d",
   "metadata": {},
   "outputs": [
    {
     "data": {
      "text/plain": [
       "tensor([1, 2, 3], device='cuda:0')"
      ]
     },
     "execution_count": 57,
     "metadata": {},
     "output_type": "execute_result"
    }
   ],
   "source": [
    "t=torch.tensor([1,2,3]).to(device)\n",
    "t"
   ]
  },
  {
   "cell_type": "code",
   "execution_count": 59,
   "id": "004332e4",
   "metadata": {},
   "outputs": [
    {
     "data": {
      "text/plain": [
       "device(type='cpu')"
      ]
     },
     "execution_count": 59,
     "metadata": {},
     "output_type": "execute_result"
    }
   ],
   "source": [
    "t=t.cpu()\n",
    "t.device"
   ]
  }
 ],
 "metadata": {
  "kernelspec": {
   "display_name": "DpLrng_env",
   "language": "python",
   "name": "python3"
  },
  "language_info": {
   "codemirror_mode": {
    "name": "ipython",
    "version": 3
   },
   "file_extension": ".py",
   "mimetype": "text/x-python",
   "name": "python",
   "nbconvert_exporter": "python",
   "pygments_lexer": "ipython3",
   "version": "3.13.1"
  }
 },
 "nbformat": 4,
 "nbformat_minor": 5
}
